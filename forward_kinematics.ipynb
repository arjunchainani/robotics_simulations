{
 "cells": [
  {
   "cell_type": "code",
   "execution_count": 77,
   "metadata": {},
   "outputs": [],
   "source": [
    "# 3-dimensional forward kinematics simulation for open-chain robot arms with prismatic and/or revolute joints\n",
    "import numpy as np\n",
    "import modern_robotics as mr\n",
    "import matplotlib.pyplot as plt\n",
    "from matplotlib.animation import FuncAnimation\n",
    "import typing\n",
    "%matplotlib notebook\n",
    "plt.rcParams['animation.html'] = 'jshtml'"
   ]
  },
  {
   "cell_type": "markdown",
   "metadata": {},
   "source": [
    "We'll start with a simple 2d representation"
   ]
  },
  {
   "cell_type": "code",
   "execution_count": 78,
   "metadata": {},
   "outputs": [],
   "source": [
    "# The data we need for our robot arm configuration\n",
    "link_lengths = np.array([4.0, 5.0, 3.0])\n",
    "joints = [['r', 'z'], ['r', 'z'], ['r', 'z']] # the first letter defines the joint type and the second letter defines the direction of the screw axis"
   ]
  },
  {
   "cell_type": "code",
   "execution_count": 79,
   "metadata": {},
   "outputs": [
    {
     "name": "stdout",
     "output_type": "stream",
     "text": [
      "[2.67291134 1.41239988 1.50761726]\n",
      "[[-3.5686589   1.80684079]\n",
      " [ 0.78867466  4.93740744]\n",
      " [ 0.18941113  2.9940146 ]]\n"
     ]
    },
    {
     "data": {
      "text/plain": [
       "array([4., 5., 3.])"
      ]
     },
     "execution_count": 79,
     "metadata": {},
     "output_type": "execute_result"
    }
   ],
   "source": [
    "def generate_link_vectors(lengths: np.ndarray, theta: np.ndarray):\n",
    "    x_components = lengths * np.cos(theta)\n",
    "    y_components = lengths * np.sin(theta)\n",
    "\n",
    "    links = np.stack((x_components, y_components), axis=-1)\n",
    "\n",
    "    return links\n",
    "\n",
    "# Testing the link vectors to ensure they have the correct magnitudes and components\n",
    "theta = np.pi * np.random.rand(3) # generates values in the set [0, pi)\n",
    "print(theta)\n",
    "\n",
    "link_vectors = generate_link_vectors(link_lengths, theta)\n",
    "print(link_vectors)\n",
    "\n",
    "link_magnitudes = np.sqrt(np.sum(link_vectors ** 2, axis=-1))\n",
    "link_magnitudes"
   ]
  },
  {
   "cell_type": "code",
   "execution_count": 80,
   "metadata": {},
   "outputs": [
    {
     "data": {
      "text/plain": [
       "array([-2.59057311,  9.73826283])"
      ]
     },
     "execution_count": 80,
     "metadata": {},
     "output_type": "execute_result"
    }
   ],
   "source": [
    "# Once we have these individual link vectors, we can find the final position of the end effector using simple vector addition\n",
    "def calculate_end_effector_position(links: np.ndarray):\n",
    "    return np.sum(links, axis=0)\n",
    "\n",
    "calculate_end_effector_position(link_vectors)"
   ]
  },
  {
   "cell_type": "code",
   "execution_count": 81,
   "metadata": {},
   "outputs": [],
   "source": [
    "# # Plotting an animation of the forward kinematics for this 3R planar robot arm\n",
    "# max_arm_length = np.sum(link_lengths)\n",
    "\n",
    "# fig, ax = plt.subplots()\n",
    "# ax.set_xlim(-max_arm_length, max_arm_length)\n",
    "# ax.set_ylim(-max_arm_length, max_arm_length)\n",
    "\n",
    "# num_frames = 100\n",
    "# theta_vals = np.zeros((3, num_frames))\n",
    "# for value in theta_vals:\n",
    "#     value = np.linspace(0, np.pi, num_frames)\n",
    "# print(theta_vals.shape)\n",
    "\n",
    "# def plot_vector(origin, vector):\n",
    "#     return ax.plot([origin[0], origin[0]], [vector[0], vector[0]], 'r-', marker='o')\n",
    "#     # return ax.quiver(origin[0], origin[1], origin[0] + vector[0], origin[0] + vector[1])\n",
    "\n",
    "# def update(frame):\n",
    "#     theta = theta_vals[:, frame]\n",
    "#     link_vectors = generate_link_vectors(link_lengths, theta)\n",
    "#     link_vectors = link_vectors.tolist()\n",
    "    \n",
    "#     for index, vector in enumerate(link_vectors):\n",
    "#         if index != 0:\n",
    "#             plot_vector(link_vectors[index - 1], vector)\n",
    "#         else:\n",
    "#             plot_vector([0, 0], vector)\n",
    "\n",
    "# anim = FuncAnimation(fig, update, frames=100)\n",
    "# plt.show()\n",
    "# anim.save('result.mp4')"
   ]
  },
  {
   "cell_type": "markdown",
   "metadata": {},
   "source": [
    "While this method of expressing forward kinematics works in this case, it does not work for all possible 2D arm configurations, and definitely not for 3-dimensional arms. \n",
    "\n",
    "For these other arm configurations, we can express the position of the end effector as a homogenous transformation matrix, and apply transformations using screw axis - theta pairs. Here's an example:"
   ]
  },
  {
   "cell_type": "code",
   "execution_count": 82,
   "metadata": {},
   "outputs": [],
   "source": [
    "# Redefining a more complex version of the robot links, this time with revolute joints with various joint axes, as well as prismatic joints\n",
    "link_lengths = np.array([4.0, 5.0, 2.0, 2.5])\n",
    "joints = [['r', 'z'], ['p', 'x'], ['r', 'z'], ['r', 'x']] "
   ]
  },
  {
   "cell_type": "code",
   "execution_count": 83,
   "metadata": {},
   "outputs": [
    {
     "data": {
      "text/plain": [
       "array([[1. , 0. , 0. , 9. ],\n",
       "       [0. , 1. , 0. , 0. ],\n",
       "       [0. , 0. , 1. , 2.5],\n",
       "       [0. , 0. , 0. , 1. ]])"
      ]
     },
     "execution_count": 83,
     "metadata": {},
     "output_type": "execute_result"
    }
   ],
   "source": [
    "# First we need to generate M, which the matrix representing the home configuration of the robot, with all angles set to zero\n",
    "# In this case, we'll define the home configuration to be where all the joints are lying on a flat plane, with the last joint facing towards the page in the positive z direction (based on the right hand rule)\n",
    "M = np.identity(4)\n",
    "M[0, 3] = np.sum(link_lengths[0:2])\n",
    "M[2, 3] = link_lengths[-1]\n",
    "M"
   ]
  },
  {
   "cell_type": "code",
   "execution_count": 84,
   "metadata": {},
   "outputs": [],
   "source": [
    "# Now we need to define screw axes for each joint on the robot arm\n",
    "def generate_screw_axis(joint_info: typing.List, q: np.ndarray):\n",
    "    # note: q defines the position of the joint relative to the origin\n",
    "    omega = np.zeros(3, dtype=np.float64)\n",
    "    velocity_axes = {'x': np.array([1, 0, 0]), 'y': np.array([0, 1, 0]), 'z': np.array([0, 0, 1])}\n",
    "\n",
    "    if joint_info[0] != 'p':\n",
    "        # as long as the joint isn't prismatic, there will be some element of angular velocity\n",
    "        omega = velocity_axes[joint_info[1]]\n",
    "        print(\"omega: \", omega)\n",
    "        linear = np.cross(-1 * omega, q)\n",
    "        print(\"linear: \", linear)\n",
    "    else:\n",
    "        omega = np.array([0, 0, 0])\n",
    "        print(\"omega: \", omega)\n",
    "        linear = velocity_axes[joint_info[1]]\n",
    "        print(\"linear: \", linear)\n",
    "\n",
    "    return np.append(omega, linear)"
   ]
  },
  {
   "cell_type": "code",
   "execution_count": 85,
   "metadata": {},
   "outputs": [],
   "source": [
    "# With the given screw axis, we can use it with our theta vector to create a skew-symmetric matrix\n",
    "# that can later be used for the matrix exponential to generate the appropriate transformation matrix and calculate the end-effector position\n",
    "def calc_end_position(screw_axes: typing.List, theta: np.ndarray, home_config: np.ndarray):\n",
    "    skew_matrix = lambda x: mr.VecTose3(x)\n",
    "    screw_matrices = np.array(list(map(skew_matrix, screw_axes)))\n",
    "\n",
    "    screw_theta_pairs = screw_matrices * theta\n",
    "    matrix_exp = lambda x: mr.MatrixExp6(x)\n",
    "    transformation_matrices = np.array(list(map(matrix_exp, screw_theta_pairs)))\n",
    "\n",
    "    # now that the homogenous transformation matrix has been generated, all we need to do is pre-multiply the matrices in reverse order with the home configuration matrix\n",
    "    final_config = home_config # initialization\n",
    "\n",
    "    for transform in reversed(list(transformation_matrices)):\n",
    "        final_config = np.matmul(transform, final_config)\n",
    "    \n",
    "    return final_config"
   ]
  },
  {
   "cell_type": "code",
   "execution_count": 86,
   "metadata": {},
   "outputs": [
    {
     "data": {
      "text/plain": [
       "[array([0., 0., 0.]),\n",
       " array([4., 0., 0.]),\n",
       " array([9., 0., 0.]),\n",
       " array([11.,  0.,  0.])]"
      ]
     },
     "execution_count": 86,
     "metadata": {},
     "output_type": "execute_result"
    }
   ],
   "source": [
    "# Generates all the screw axes and combines them into a single array\n",
    "\n",
    "# First, we need to declare q vectors for each joint\n",
    "q1 = np.array([link_lengths[0], 0.0, 0.0])\n",
    "q2 = np.array([sum(link_lengths[:2]), 0.0, 0.0])\n",
    "q3 = np.array([sum(link_lengths[:3]), 0.0, 0.0])\n",
    "q4 = np.array([sum(link_lengths[:3]), 0.0, link_lengths[3]])\n",
    "\n",
    "q1 = np.array([0.0, 0.0, 0.0])\n",
    "q2 = np.array([link_lengths[0], 0.0, 0.0])\n",
    "q3 = np.array([sum(link_lengths[:2]), 0.0, 0.0])\n",
    "q4 = np.array([sum(link_lengths[:3]), 0.0, 0.0])\n",
    "q_vecs = [q1, q2, q3, q4]\n",
    "q_vecs"
   ]
  },
  {
   "cell_type": "code",
   "execution_count": 87,
   "metadata": {},
   "outputs": [
    {
     "name": "stdout",
     "output_type": "stream",
     "text": [
      "omega:  [0 0 1]\n",
      "linear:  [ 0. -0.  0.]\n",
      "omega:  [0 0 0]\n",
      "linear:  [1 0 0]\n",
      "omega:  [0 0 1]\n",
      "linear:  [ 0. -9.  0.]\n",
      "omega:  [1 0 0]\n",
      "linear:  [ 0.  0. -0.]\n"
     ]
    },
    {
     "data": {
      "text/plain": [
       "[array([ 0.,  0.,  1.,  0., -0.,  0.]),\n",
       " array([0, 0, 0, 1, 0, 0]),\n",
       " array([ 0.,  0.,  1.,  0., -9.,  0.]),\n",
       " array([ 1.,  0.,  0.,  0.,  0., -0.])]"
      ]
     },
     "execution_count": 87,
     "metadata": {},
     "output_type": "execute_result"
    }
   ],
   "source": [
    "# Now, we need to map these q vectors, as well as the joint info into our generate screw axes function\n",
    "screw_axes = list(map(generate_screw_axis, joints, q_vecs))\n",
    "screw_axes # these are now the calculated screw axes for each joint"
   ]
  },
  {
   "cell_type": "code",
   "execution_count": 91,
   "metadata": {},
   "outputs": [
    {
     "data": {
      "text/plain": [
       "array([0.        , 0.78539816, 1.04719755, 2.35619449])"
      ]
     },
     "execution_count": 91,
     "metadata": {},
     "output_type": "execute_result"
    }
   ],
   "source": [
    "theta = np.array([0.0, np.pi / 4, np.pi / 3, (3 * np.pi) / 4])\n",
    "# theta = np.pi * np.random.rand(4)\n",
    "theta"
   ]
  },
  {
   "cell_type": "code",
   "execution_count": 98,
   "metadata": {},
   "outputs": [
    {
     "data": {
      "text/plain": [
       "array([[  1.        ,   0.        ,   0.        ,  11.35619449],\n",
       "       [  0.        ,   0.60947571,  -0.94280904, -23.56277302],\n",
       "       [  0.        ,   0.70710678,   0.60947571,   1.52368927],\n",
       "       [  0.        ,   0.        ,   0.        ,   1.        ]])"
      ]
     },
     "execution_count": 98,
     "metadata": {},
     "output_type": "execute_result"
    }
   ],
   "source": [
    "# returns the transformation matrix for the end position\n",
    "T = calc_end_position(screw_axes, theta, M)\n",
    "T"
   ]
  },
  {
   "cell_type": "code",
   "execution_count": 103,
   "metadata": {},
   "outputs": [
    {
     "data": {
      "text/plain": [
       "([array([1., 0., 0.]),\n",
       "  array([0.        , 0.60947571, 0.70710678]),\n",
       "  array([ 0.        , -0.94280904,  0.60947571])],\n",
       " array([ 11.35619449, -23.56277302,   1.52368927]))"
      ]
     },
     "execution_count": 103,
     "metadata": {},
     "output_type": "execute_result"
    }
   ],
   "source": [
    "# now the last step is to apply the transformation matrix and calculate the x, y, and z vectors of the body frame\n",
    "rotation = T[:3, :3]\n",
    "translation = T[:3, 3]\n",
    "\n",
    "x_hat = np.array([1.0, 0.0, 0.0])\n",
    "y_hat = np.array([0.0, 1.0, 0.0])\n",
    "z_hat = np.array([0.0, 0.0, 1.0])\n",
    "space_frame = [x_hat, y_hat, z_hat]\n",
    "\n",
    "transform = lambda vec: np.dot(rotation, vec)\n",
    "\n",
    "body_frame = list(map(transform, space_frame))\n",
    "body_frame, translation # note the last array refers to the new origin of these body frame vectors"
   ]
  }
 ],
 "metadata": {
  "kernelspec": {
   "display_name": ".venv",
   "language": "python",
   "name": "python3"
  },
  "language_info": {
   "codemirror_mode": {
    "name": "ipython",
    "version": 3
   },
   "file_extension": ".py",
   "mimetype": "text/x-python",
   "name": "python",
   "nbconvert_exporter": "python",
   "pygments_lexer": "ipython3",
   "version": "3.10.11"
  }
 },
 "nbformat": 4,
 "nbformat_minor": 2
}
